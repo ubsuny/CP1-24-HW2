{
 "cells": [
  {
   "cell_type": "code",
   "execution_count": 1,
   "metadata": {},
   "outputs": [],
   "source": [
    "import numpy as np\n",
    "import scipy.optimize as opt\n",
    "import matplotlib.pyplot as plt\n",
    "import timeit"
   ]
  },
  {
   "cell_type": "markdown",
   "metadata": {},
   "source": [
    "# Array Axis Summation\n",
    "\n",
    "We want to implement a method to calculate the sum along an arbitrary axis (row or column) of a given matrix using np.einsum. \n",
    "\n",
    "First, let's generate matrices that we can work with. From the script that implements matrix multiplication to see how the time scales (Calculation Time for Matrix Multiplication.ipynb), we have a function that generates even or odd matrices. Here, by even and odd we simply mean that the elements of the matrix are  either all even or all odd. Specifically, for even matrices, the elements are 0, 2, 4, 6, etc... and for odd matrices, the elements are 1, 3, 5, 7, etc... \n",
    "\n",
    " We'll use that function to generate our matrices for consistency. "
   ]
  },
  {
   "cell_type": "code",
   "execution_count": 7,
   "metadata": {},
   "outputs": [],
   "source": [
    "#Function to generate even and odd matrices\n",
    "def generate_matrices(n):\n",
    "    '''Generates two nxn matrices, E and O. E contains the first n^2 even numbers (0, 2, 4, etc...)\n",
    "      ordered from least to greatest across rows and down columns and O contains the first n^2 odd numbers ordered in the same way.\n",
    "      \n",
    "      n = size of matrix. Input of n produces two nxn matrices.'''\n",
    "    #Create an array with even numbers from 0 to 2*n^2-2\n",
    "    E = np.arange(0, 2*n**2, 2).reshape(n, n) #makes an array ranging from 0 to 2n^2 in steps of 2, then reshapes into n rows on length n, making an nxn matrix.\n",
    "    \n",
    "    #Create an array with odd numbers from 1 to 2*n**2-1\n",
    "    O = np.arange(1, 2*n**2 + 1, 2).reshape(n, n)\n",
    "    \n",
    "    return E, O"
   ]
  },
  {
   "cell_type": "code",
   "execution_count": 3,
   "metadata": {},
   "outputs": [],
   "source": [
    "def axis_summation(matrix,row_or_column):\n",
    "    ''' \n",
    "    matrix: The matrix over which you will do the axis summation\n",
    "    row_or_column: 0 or 1. The axis over which you want to sum. 1 input sums over rows, and 0 input sums over columns.\n",
    "    '''\n",
    "    if row_or_column == 1:\n",
    "        #Sum over rows\n",
    "        return np.einsum('ij->i', matrix)\n",
    "    elif row_or_column == 0:\n",
    "        #Sum over columns\n",
    "        return np.einsum('ij->j', matrix)\n",
    "    else:\n",
    "        raise ValueError(\"Invalid axis. Use 0 for columns or 1 for rows.\")"
   ]
  },
  {
   "cell_type": "markdown",
   "metadata": {},
   "source": [
    "Now we have our functions. They even make give you an error message if you give an invalid input for the summation axis. \n",
    "\n",
    "Let's use timeit to time how long this takes."
   ]
  },
  {
   "cell_type": "code",
   "execution_count": 4,
   "metadata": {},
   "outputs": [],
   "source": [
    "#Set the maximum matrix size\n",
    "N = 1000\n",
    "\n",
    "t_N_rows = []\n",
    "t_N_columns = []\n",
    "\n",
    "#Loop through matrix sizes from 1 to N and time their matrix summation\n",
    "for n in range(1, N):\n",
    "    E, O = generate_matrices(n)\n",
    "    \n",
    "    #Use timeit to time the matrix multiplication\n",
    "    t_n_rows = timeit.timeit(lambda: axis_summation(E,1), number=500) / 500  # Averaging over 500 runs\n",
    "    t_n_columns = timeit.timeit(lambda: axis_summation(E,0), number = 500) / # Averaging over 500 runs 500\n",
    " \n",
    "    #Append the calculation time to the list\n",
    "    t_N_rows.append(t_n_rows)\n",
    "    t_N_columns.append(t_n_columns)\n",
    "\n",
    "#Convert the matrix sizes and times to numpy arrays\n",
    "N_values = np.arange(1, N)\n",
    "t_N_rows = np.array(t_N_rows)\n",
    "t_N_columns = np.array(t_N_columns)"
   ]
  },
  {
   "cell_type": "markdown",
   "metadata": {},
   "source": [
    "We'll also set up a fitting function to get useful information about how the time scales. We'll also be able to see if there's any time difference between summing rows and columns."
   ]
  },
  {
   "cell_type": "code",
   "execution_count": 8,
   "metadata": {},
   "outputs": [],
   "source": [
    "#Define the fitting function (Power Law: t(N) = A * N^p)\n",
    "def fit(N, p, A, b):\n",
    "    ''' Function we use to fit our data.\n",
    "     b = y-intercept\n",
    "     A = scaling factor\n",
    "     p = scaling exponent\n",
    "     N = size of data\n",
    "       '''\n",
    "    return A * N**p+b\n",
    "\n",
    "#Perform curve fitting for row and column summation\n",
    "parameters_rows, covariance_rows = opt.curve_fit(fit, N_values, t_N_rows, p0=[2, 10**-5, 0.3], maxfev=10000)\n",
    "perr_rows = np.sqrt(np.diag(covariance_rows))\n",
    "\n",
    "parameters_columns, covariance_columns = opt.curve_fit(fit, N_values, t_N_columns, p0=[2, 10**-5, 0.3], maxfev=10000)\n",
    "perr_columns = np.sqrt(np.diag(covariance_columns))\n",
    "\n",
    "#Generate fitted values for plotting\n",
    "fitted_t_N_rows = fit(N_values, *parameters_rows)\n",
    "fitted_t_N_columns = fit(N_values, *parameters_columns)"
   ]
  },
  {
   "cell_type": "code",
   "execution_count": null,
   "metadata": {},
   "outputs": [],
   "source": [
    "#Plot the original data\n",
    "plt.plot(N_values, t_N_rows, ',', label='Row Data', markersize=2)\n",
    "plt.plot(N_values, t_N_columns, ',', label='Column Data', markersize=2)\n",
    "\n",
    "#Plot the fitted curve\n",
    "plt.plot(N_values, fitted_t_N_rows, label='fit for row data', zorder=10)\n",
    "plt.plot(N_values, fitted_t_N_columns, label='fit for column data', zorder=10)\n",
    "plt.xlabel('N')\n",
    "plt.ylabel('Computation Time (seconds)')\n",
    "plt.legend()\n",
    "plt.show()\n",
    "\n",
    "#Print the fitting exponent and coefficient\n",
    "print('Predicted Fitting Exponent for Row Summation: ' + str(parameters_rows[0])+ ' ± ' + str(perr_rows[0]))\n",
    "print('Predicted Fitting Exponent for Column Summation: ' + str(parameters_columns[0])+ ' ± ' + str(perr_columns[0]))\n"
   ]
  },
  {
   "cell_type": "markdown",
   "metadata": {},
   "source": [
    "Finally we see that both row and column summations seem to scale in the same way, but column summations seem to take slightly longer. This might be an artifact of garbage collection and columns being calculated second. "
   ]
  },
  {
   "cell_type": "markdown",
   "metadata": {},
   "source": []
  }
 ],
 "metadata": {
  "kernelspec": {
   "display_name": "Python 3",
   "language": "python",
   "name": "python3"
  },
  "language_info": {
   "codemirror_mode": {
    "name": "ipython",
    "version": 3
   },
   "file_extension": ".py",
   "mimetype": "text/x-python",
   "name": "python",
   "nbconvert_exporter": "python",
   "pygments_lexer": "ipython3",
   "version": "3.12.1"
  }
 },
 "nbformat": 4,
 "nbformat_minor": 2
}
